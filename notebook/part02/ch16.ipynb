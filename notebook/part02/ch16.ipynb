{
 "cells": [
  {
   "cell_type": "markdown",
   "metadata": {
    "collapsed": true
   },
   "source": [
    "# 第16章主成分分析"
   ]
  },
  {
   "cell_type": "markdown",
   "metadata": {
    "collapsed": true
   },
   "source": [
    "## 习题16.1\n",
    "&emsp;&emsp;对以下样本数据进行主成分分析：\n",
    "$$\n",
    "X = \\left[ \n",
    "\\begin{array}{lll}\n",
    "2 & 3 & 3 & 4 & 5 & 7 \\\\\n",
    "2 & 4 & 5 & 5 & 6 & 8\n",
    "\\end{array}\n",
    "\\right]\n",
    "$$"
   ]
  },
  {
   "cell_type": "markdown",
   "metadata": {},
   "source": [
    "**解答：**  "
   ]
  },
  {
   "cell_type": "markdown",
   "metadata": {},
   "source": [
    "**解答思路：**\n",
    "\n",
    "1. 给出主成分分析算法\n",
    "2. 自编程基于`numpy`库实现主成分分析算法"
   ]
  },
  {
   "cell_type": "markdown",
   "metadata": {},
   "source": [
    "**解答步骤：**  "
   ]
  },
  {
   "cell_type": "markdown",
   "metadata": {},
   "source": [
    "**第1步：主成分分析算法**"
   ]
  },
  {
   "cell_type": "markdown",
   "metadata": {},
   "source": [
    "**第2步：自编程基于`numpy`库实现主成分分析算法**"
   ]
  },
  {
   "cell_type": "code",
   "execution_count": 1,
   "metadata": {},
   "outputs": [],
   "source": [
    "import numpy as np\n",
    "def pca_by_svd(X, k):\n",
    "    \"\"\"数据矩阵奇异值分解进行的主成分分析算法\n",
    "\n",
    "    :param X: 样本矩阵X\n",
    "    :param k: 主成分个数k\n",
    "    :return:\n",
    "    \"\"\"\n",
    "    n_samples = X.shape[1]\n",
    "\n",
    "    # 构造新的n×m矩阵\n",
    "    T = X.T / np.sqrt(n_samples - 1)\n",
    "\n",
    "    # 对矩阵T进行截断奇异值分解\n",
    "    U, S, V = np.linalg.svd(T)\n",
    "    V = V[:, :k]\n",
    "\n",
    "    # 求k×n的样本主成分矩阵\n",
    "    return V, np.dot(V.T, X)"
   ]
  },
  {
   "cell_type": "code",
   "execution_count": 6,
   "metadata": {},
   "outputs": [
    {
     "name": "stdout",
     "output_type": "stream",
     "text": [
      "正交矩阵V：\n",
      "[[ 0.707  0.707]\n",
      " [ 0.707 -0.707]]\n",
      "样本主成分矩阵Y：\n",
      "[[-2.028 -0.82  -0.433  0.     0.82   2.461]\n",
      " [ 0.296 -0.046 -0.433  0.     0.046  0.137]]\n"
     ]
    }
   ],
   "source": [
    "X = np.array([[2, 3, 3, 4, 5, 7],\n",
    "              [2, 4, 5, 5, 6, 8]])\n",
    "X = X.astype(\"float64\")\n",
    "\n",
    "# 规范化变量\n",
    "avg = np.average(X, axis=1)\n",
    "var = np.var(X, axis=1)\n",
    "for i in range(X.shape[0]):\n",
    "    X[i] = (X[i, :] - avg[i]) / np.sqrt(var[i])\n",
    "\n",
    "# 设置精度为2\n",
    "np.set_printoptions(precision=3, suppress=True)\n",
    "V, vnk = pca_by_svd(X, 2)\n",
    "print(\"正交矩阵V：\")\n",
    "print(V)\n",
    "print(\"样本主成分矩阵Y：\")\n",
    "print(vnk)"
   ]
  },
  {
   "cell_type": "markdown",
   "metadata": {},
   "source": [
    "## 习题16.2\n",
    "&emsp;&emsp;证明样本协方差矩阵$S$是总体协方差矩阵$\\Sigma$的无偏估计。"
   ]
  },
  {
   "cell_type": "markdown",
   "metadata": {},
   "source": [
    "**解答：**"
   ]
  },
  {
   "cell_type": "markdown",
   "metadata": {},
   "source": [
    "**解答思路：**  \n",
    "\n",
    "1. 给出总体协方差矩阵$\\Sigma$\n",
    "2. 给出样本协方差矩阵$S$\n",
    "3. 给出无偏估计的定义\n",
    "4. 证明样本协方差矩阵$S$是总体协方差矩阵$\\Sigma$的无偏估计"
   ]
  },
  {
   "cell_type": "markdown",
   "metadata": {},
   "source": [
    "**解答步骤：**   "
   ]
  },
  {
   "cell_type": "markdown",
   "metadata": {},
   "source": [
    "**第1步：总体协方差矩阵$\\Sigma$**"
   ]
  },
  {
   "cell_type": "markdown",
   "metadata": {},
   "source": [
    "**第2步：样本协方差矩阵$S$**"
   ]
  },
  {
   "cell_type": "markdown",
   "metadata": {},
   "source": [
    "**第3步：无偏估计的定义**"
   ]
  },
  {
   "cell_type": "markdown",
   "metadata": {},
   "source": [
    "**第4步：证明样本协方差矩阵$S$是总体协方差矩阵$\\Sigma$的无偏估计**"
   ]
  },
  {
   "cell_type": "markdown",
   "metadata": {},
   "source": [
    "## 习题16.3\n",
    "&emsp;&emsp;设$X$为数据规范化样本矩阵，则主成分等价于求解以下最优化问题：\n",
    "$$\n",
    "\\begin{array}{cl}\n",
    "\\min \\limits_L & \\|X - L\\|_F \\\\\n",
    "\\text{s.t.} & \\text{rank}(L) \\leqslant k\n",
    "\\end{array}\n",
    "$$\n",
    "其中，$F$是弗罗贝尼乌斯范数，$k$是主成分个数。试问为什么？"
   ]
  },
  {
   "cell_type": "markdown",
   "metadata": {},
   "source": [
    "**解答：**"
   ]
  },
  {
   "cell_type": "markdown",
   "metadata": {},
   "source": [
    "**解答思路：**  \n",
    "\n",
    "1. 给出矩阵$X$的奇异值分解算法\n",
    "2. 证明主成分是该最优化问题的最优解\n",
    "3. 证明该最优化问题的最优解是$X$的主成分"
   ]
  },
  {
   "cell_type": "markdown",
   "metadata": {},
   "source": [
    "**解答步骤：**   "
   ]
  },
  {
   "cell_type": "markdown",
   "metadata": {},
   "source": [
    "**第1步：矩阵$X$的奇异值分解算法**"
   ]
  },
  {
   "cell_type": "markdown",
   "metadata": {},
   "source": [
    "**第2步：证明主成分是该最优化问题的最优解**"
   ]
  },
  {
   "cell_type": "markdown",
   "metadata": {},
   "source": [
    "**第3步：证明该最优化问题的最优解是$X$的主成分**"
   ]
  }
 ],
 "metadata": {
  "interpreter": {
   "hash": "c50c7698ff25eb1d7dce4c52e3d5cc14b3b23d6a97d4fb70aad8c815eba6f63e"
  },
  "kernelspec": {
   "display_name": "Python 3",
   "language": "python",
   "name": "python3"
  },
  "language_info": {
   "codemirror_mode": {
    "name": "ipython",
    "version": 3
   },
   "file_extension": ".py",
   "mimetype": "text/x-python",
   "name": "python",
   "nbconvert_exporter": "python",
   "pygments_lexer": "ipython3",
   "version": "3.7.9"
  },
  "toc": {
   "base_numbering": 1,
   "nav_menu": {},
   "number_sections": false,
   "sideBar": true,
   "skip_h1_title": false,
   "title_cell": "Table of Contents",
   "title_sidebar": "Contents",
   "toc_cell": false,
   "toc_position": {
    "height": "calc(100% - 180px)",
    "left": "10px",
    "top": "150px",
    "width": "273.188px"
   },
   "toc_section_display": true,
   "toc_window_display": false
  }
 },
 "nbformat": 4,
 "nbformat_minor": 1
}
