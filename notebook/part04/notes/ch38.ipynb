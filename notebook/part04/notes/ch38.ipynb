{
 "cells": [
  {
   "cell_type": "markdown",
   "id": "cc7f09af7eaa7e62",
   "metadata": {},
   "source": [
    "# 第38章 深度Q网络"
   ]
  },
  {
   "cell_type": "markdown",
   "id": "fea08308",
   "metadata": {},
   "source": [
    "## 习题38.1"
   ]
  },
  {
   "cell_type": "markdown",
   "id": "141abbbc",
   "metadata": {},
   "source": [
    "&emsp;&emsp;写出函数近似的SARSA算法。"
   ]
  },
  {
   "cell_type": "markdown",
   "id": "a24401c0",
   "metadata": {},
   "source": [
    "**解答：**  "
   ]
  },
  {
   "cell_type": "markdown",
   "id": "a26f336d",
   "metadata": {},
   "source": [
    "**解答思路：**"
   ]
  },
  {
   "cell_type": "markdown",
   "id": "3abf0c86",
   "metadata": {},
   "source": [
    "**解答步骤：**  "
   ]
  },
  {
   "cell_type": "markdown",
   "id": "52bcbab9",
   "metadata": {},
   "source": [
    "## 习题38.2"
   ]
  },
  {
   "cell_type": "markdown",
   "id": "2a2bc70e",
   "metadata": {},
   "source": [
    "&emsp;&emsp;假设使用函数近似的价值函数出现了过拟合或欠拟合现象，应该如何调整训练方法？"
   ]
  },
  {
   "cell_type": "markdown",
   "id": "f7c31f8a",
   "metadata": {},
   "source": [
    "**解答：**  "
   ]
  },
  {
   "cell_type": "markdown",
   "id": "34d157ad",
   "metadata": {},
   "source": [
    "**解答思路：**"
   ]
  },
  {
   "cell_type": "markdown",
   "id": "6a2440f4",
   "metadata": {},
   "source": [
    "**解答步骤：**  "
   ]
  },
  {
   "cell_type": "markdown",
   "id": "1e194422",
   "metadata": {},
   "source": [
    "## 习题38.3"
   ]
  },
  {
   "cell_type": "markdown",
   "id": "9e00f0b9",
   "metadata": {},
   "source": [
    "&emsp;&emsp;比较DQN与传统Q学习算法的异同点，并分析DQN在处理大规模问题上的优势。"
   ]
  },
  {
   "cell_type": "markdown",
   "id": "9aff71d4",
   "metadata": {},
   "source": [
    "**解答：**  "
   ]
  },
  {
   "cell_type": "markdown",
   "id": "c16037fa",
   "metadata": {},
   "source": [
    "**解答思路：**"
   ]
  },
  {
   "cell_type": "markdown",
   "id": "5dc1f464",
   "metadata": {},
   "source": [
    "**解答步骤：**  "
   ]
  },
  {
   "cell_type": "code",
   "execution_count": null,
   "id": "7a104b7eac663d0c",
   "metadata": {},
   "outputs": [],
   "source": []
  }
 ],
 "metadata": {
  "kernelspec": {
   "display_name": "Python 3 (ipykernel)",
   "language": "python",
   "name": "python3"
  },
  "language_info": {
   "codemirror_mode": {
    "name": "ipython",
    "version": 3
   },
   "file_extension": ".py",
   "mimetype": "text/x-python",
   "name": "python",
   "nbconvert_exporter": "python",
   "pygments_lexer": "ipython3",
   "version": "3.10.5"
  }
 },
 "nbformat": 4,
 "nbformat_minor": 5
}
