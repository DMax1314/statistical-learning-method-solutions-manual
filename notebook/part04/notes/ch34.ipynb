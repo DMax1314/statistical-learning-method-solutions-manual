{
 "cells": [
  {
   "cell_type": "markdown",
   "id": "57b2e607924b7d11",
   "metadata": {},
   "source": [
    "# 第34章 强化学习简介"
   ]
  },
  {
   "cell_type": "markdown",
   "id": "d0c3aeb2",
   "metadata": {},
   "source": [
    "## 习题34.1"
   ]
  },
  {
   "cell_type": "markdown",
   "id": "cdd16750",
   "metadata": {},
   "source": [
    "&emsp;&emsp;写出奖励、回报、价值（状态价值）的定义，比较三者之间的关系。"
   ]
  },
  {
   "cell_type": "markdown",
   "id": "a24401c0",
   "metadata": {},
   "source": [
    "**解答：**  "
   ]
  },
  {
   "cell_type": "markdown",
   "id": "a26f336d",
   "metadata": {},
   "source": [
    "**解答思路：**"
   ]
  },
  {
   "cell_type": "markdown",
   "id": "3abf0c86",
   "metadata": {},
   "source": [
    "**解答步骤：**  "
   ]
  },
  {
   "cell_type": "markdown",
   "id": "aaca44cd",
   "metadata": {},
   "source": [
    "## 习题34.2"
   ]
  },
  {
   "cell_type": "markdown",
   "id": "c394480f",
   "metadata": {},
   "source": [
    "&emsp;&emsp;证明状态-动作的转移概率分布也具有马尔可夫性(34.3)。"
   ]
  },
  {
   "cell_type": "markdown",
   "id": "9bab9ea7",
   "metadata": {},
   "source": [
    "**解答：**  "
   ]
  },
  {
   "cell_type": "markdown",
   "id": "14093b3c",
   "metadata": {},
   "source": [
    "**解答思路：**"
   ]
  },
  {
   "cell_type": "markdown",
   "id": "d6d30d87",
   "metadata": {},
   "source": [
    "**解答步骤：**  "
   ]
  },
  {
   "cell_type": "markdown",
   "id": "e39fcb90",
   "metadata": {},
   "source": [
    "## 习题34.3"
   ]
  },
  {
   "cell_type": "markdown",
   "id": "35a2a2ee",
   "metadata": {},
   "source": [
    "&emsp;&emsp;证明两种价值函数之间的关系(34.8)。"
   ]
  },
  {
   "cell_type": "markdown",
   "id": "eb3cbb2c",
   "metadata": {},
   "source": [
    "**解答：**  "
   ]
  },
  {
   "cell_type": "markdown",
   "id": "f266fc48",
   "metadata": {},
   "source": [
    "**解答思路：**"
   ]
  },
  {
   "cell_type": "markdown",
   "id": "42450a35",
   "metadata": {},
   "source": [
    "**解答步骤：**  "
   ]
  },
  {
   "cell_type": "code",
   "execution_count": null,
   "id": "f8562f85",
   "metadata": {},
   "outputs": [],
   "source": []
  }
 ],
 "metadata": {
  "kernelspec": {
   "display_name": "Python 3 (ipykernel)",
   "language": "python",
   "name": "python3"
  },
  "language_info": {
   "codemirror_mode": {
    "name": "ipython",
    "version": 3
   },
   "file_extension": ".py",
   "mimetype": "text/x-python",
   "name": "python",
   "nbconvert_exporter": "python",
   "pygments_lexer": "ipython3",
   "version": "3.10.5"
  }
 },
 "nbformat": 4,
 "nbformat_minor": 5
}
